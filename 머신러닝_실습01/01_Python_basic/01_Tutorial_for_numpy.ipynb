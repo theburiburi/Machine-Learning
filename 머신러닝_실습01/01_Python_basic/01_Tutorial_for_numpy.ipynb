{
 "cells": [
  {
   "cell_type": "markdown",
   "metadata": {},
   "source": [
    "# Numpy\n",
    "- 패키지 사용 이전에 반드시 **import**해야 하는 것을 기억해주세요!\n",
    "- Numpy의 함수를 사용할 때마다 \"numpy\"를 적는 것이 귀찮기 때문에, 흔히들 \"**np**\"로 줄여서 import합니다."
   ]
  },
  {
   "cell_type": "code",
   "execution_count": 1,
   "metadata": {},
   "outputs": [],
   "source": [
    "import numpy as np"
   ]
  },
  {
   "cell_type": "markdown",
   "metadata": {},
   "source": [
    "## array\n",
    "- array는 numpy에서 제공하는 자료구조로, 파이썬의 list와 유사한 성격을 보입니다.\n",
    "- MATLAB, R에서의 벡터, 행렬 연산 인터페이스와 거의 같은 기능을 제공합니다."
   ]
  },
  {
   "cell_type": "code",
   "execution_count": 2,
   "metadata": {},
   "outputs": [
    {
     "name": "stdout",
     "output_type": "stream",
     "text": [
      "[1, 2, 3]\n",
      "<class 'list'>\n",
      "[1 2 3]\n",
      "<class 'numpy.ndarray'>\n"
     ]
    }
   ],
   "source": [
    "a = [1, 2, 3]\n",
    "b = np.array(a)\n",
    "print(a)\n",
    "print(type(a))\n",
    "print(b)\n",
    "print(type(b))"
   ]
  },
  {
   "cell_type": "code",
   "execution_count": 3,
   "metadata": {},
   "outputs": [
    {
     "name": "stdout",
     "output_type": "stream",
     "text": [
      "[1, 2, 3, 1, 2, 3, 1, 2, 3]\n",
      "[3 6 9]\n"
     ]
    }
   ],
   "source": [
    "print(a*3)\n",
    "print(b*3)"
   ]
  },
  {
   "cell_type": "code",
   "execution_count": 4,
   "metadata": {},
   "outputs": [
    {
     "name": "stdout",
     "output_type": "stream",
     "text": [
      "[1 2 3 4]\n",
      "<class 'numpy.ndarray'>\n",
      "(4,)\n",
      "[[1 2 3]\n",
      " [4 5 6]]\n",
      "<class 'numpy.ndarray'>\n",
      "(2, 3)\n"
     ]
    }
   ],
   "source": [
    "# Rank = 1인 array\n",
    "a = np.array((1,2,3,4))\n",
    "print(a)\n",
    "print(type(a))\n",
    "print(a.shape)\n",
    "\n",
    "# Rank = 2인 array\n",
    "b = np.array([[1,2,3],[4,5,6]])\n",
    "print(b)\n",
    "print(type(b))\n",
    "print(b.shape)"
   ]
  },
  {
   "cell_type": "code",
   "execution_count": 5,
   "metadata": {},
   "outputs": [
    {
     "name": "stdout",
     "output_type": "stream",
     "text": [
      "1 2\n",
      "[5 2 3 4]\n",
      "[1 2 3]\n",
      "3\n",
      "3\n",
      "[[1 2 7]\n",
      " [4 5 6]]\n"
     ]
    }
   ],
   "source": [
    "# array의 성분은 모두 index를 갖고 있습니다. 이를 이용하여 성분을 바꿀 수 있습니다.\n",
    "a = np.array([1,2,3,4])\n",
    "print(a[0], a[1])\n",
    "a[0] = 5 # array의 가장 첫 번째 성분을 5로 변경\n",
    "print(a)\n",
    "\n",
    "b = np.array([[1,2,3],[4,5,6]])\n",
    "print(b[0]) # b 배열의 첫 번째 행을 출력\n",
    "print(b[0][2]) # b 배열의 첫 번째 행, 세 번째 열의 값을 출력 (즉, 행렬의 (1,3) 성분)\n",
    "print(b[0,2])  # 위와 동일\n",
    "b[0,2] = 7\n",
    "print(b)"
   ]
  },
  {
   "cell_type": "code",
   "execution_count": 6,
   "metadata": {
    "scrolled": true
   },
   "outputs": [
    {
     "name": "stdout",
     "output_type": "stream",
     "text": [
      "[1. 2. 3. 4.]\n",
      "<class 'numpy.float64'>\n",
      "float64\n",
      "[1 2 3 4]\n",
      "<class 'numpy.int64'>\n",
      "int64\n"
     ]
    }
   ],
   "source": [
    "# array 성분의 type을 정의할 수 있습니다.\n",
    "a = np.array([1,2,3,4], float)\n",
    "print(a)\n",
    "print(type(a[0]))\n",
    "print(a.dtype)\n",
    "\n",
    "b = np.array([1,2,3,4], int)\n",
    "print(b)\n",
    "print(type(b[0]))\n",
    "print(b.dtype)"
   ]
  },
  {
   "cell_type": "code",
   "execution_count": 7,
   "metadata": {},
   "outputs": [
    {
     "name": "stdout",
     "output_type": "stream",
     "text": [
      "1\n",
      "[1 2 3]\n",
      "[3 6]\n"
     ]
    }
   ],
   "source": [
    "# MATLAB, R과 유사한 인터페이스로 행렬의 성분들을 분해할 수 있습니다.\n",
    "a = np.array([[1,2,3,], [4,5,6]])\n",
    "print(a[0,0]) # a 행렬의 (1,1) 성분\n",
    "print(a[0,:]) # a 행렬의 첫 번째 행\n",
    "print(a[:,2]) # a 행렬의 세 번째 열"
   ]
  },
  {
   "cell_type": "code",
   "execution_count": 8,
   "metadata": {},
   "outputs": [
    {
     "name": "stdout",
     "output_type": "stream",
     "text": [
      "[[1 2 3]\n",
      " [3 4 5]]\n",
      "(2, 3)\n",
      "First row: [1 2 3]\n",
      "Last row: [3 4 5]\n",
      "Specific row and col: 3\n",
      "Whole col: [3 5]\n"
     ]
    }
   ],
   "source": [
    "mylist = [[1, 2, 3], [3, 4, 5]]\n",
    "myarray = np.array(mylist)\n",
    "print(myarray)\n",
    "print(myarray.shape)\n",
    "print(\"First row: %s\" % myarray[0])\n",
    "print(\"Last row: %s\" % myarray[-1])\n",
    "print(\"Specific row and col: %s\" % myarray[0, 2])\n",
    "print(\"Whole col: %s\" % myarray[:,2])"
   ]
  },
  {
   "cell_type": "markdown",
   "metadata": {},
   "source": [
    "## array 연산\n",
    "- array 연산 역시 MATLAB, R과 매우 유사합니다.\n",
    "- +, -, /, //, %, ** 등 기본적인 파이썬의 연산자는 그대로 적용 가능합니다.\n",
    "- numpy 자체에서 abs, sign, sqrt, log, log10, exp, sin, cos, tan, floor(내림), ceil(올림), rint(반올림) 등의 함수를 제공합니다."
   ]
  },
  {
   "cell_type": "code",
   "execution_count": 9,
   "metadata": {},
   "outputs": [
    {
     "data": {
      "text/plain": [
       "array([6, 8])"
      ]
     },
     "execution_count": 9,
     "metadata": {},
     "output_type": "execute_result"
    }
   ],
   "source": [
    "a = np.array([1, 2])\n",
    "b = np.array([5, 6])\n",
    "\n",
    "a + b"
   ]
  },
  {
   "cell_type": "code",
   "execution_count": 10,
   "metadata": {},
   "outputs": [
    {
     "name": "stdout",
     "output_type": "stream",
     "text": [
      "[3 7 9]\n",
      "[-1 -3 -3]\n",
      "[0.5 0.4 0.5]\n",
      "[2.  2.5 2. ]\n",
      "[2 2 2]\n",
      "[0 1 0]\n",
      "[  1  32 729]\n"
     ]
    }
   ],
   "source": [
    "# Python의 기본 연산자에 대해서 우리가 생각하는대로 결과가 나옵니다.\n",
    "a = np.array([1,2,3])\n",
    "b = np.array([2,5,6])\n",
    "\n",
    "print(a + b)\n",
    "print(a - b)\n",
    "print(a / b)\n",
    "print(b / a)\n",
    "print(b // a)\n",
    "print(b % a)\n",
    "print(a ** b)"
   ]
  },
  {
   "cell_type": "code",
   "execution_count": 11,
   "metadata": {},
   "outputs": [
    {
     "name": "stdout",
     "output_type": "stream",
     "text": [
      "[[ 3  6  9]\n",
      " [10 13 16]]\n",
      "[[-1 -2 -3]\n",
      " [-2 -3 -4]]\n",
      "[[0.5        0.5        0.5       ]\n",
      " [0.66666667 0.625      0.6       ]]\n",
      "[[2.         2.         2.        ]\n",
      " [1.5        1.6        1.66666667]]\n",
      "[[2 2 2]\n",
      " [1 1 1]]\n",
      "[[0 0 0]\n",
      " [2 3 4]]\n",
      "[[       1       16      729]\n",
      " [    4096   390625 60466176]]\n"
     ]
    }
   ],
   "source": [
    "a = np.array([[1,2,3],[4,5,6]])\n",
    "b = np.array([[2,4,6],[6,8,10]])\n",
    "\n",
    "print(a + b)\n",
    "print(a - b)\n",
    "print(a / b)\n",
    "print(b / a)\n",
    "print(b // a)\n",
    "print(b % a)\n",
    "print(a ** b)"
   ]
  },
  {
   "cell_type": "code",
   "execution_count": 12,
   "metadata": {},
   "outputs": [
    {
     "ename": "ValueError",
     "evalue": "operands could not be broadcast together with shapes (3,) (2,) ",
     "output_type": "error",
     "traceback": [
      "\u001b[0;31m---------------------------------------------------------------------------\u001b[0m",
      "\u001b[0;31mValueError\u001b[0m                                Traceback (most recent call last)",
      "\u001b[0;32m<ipython-input-12-6e1b36c70883>\u001b[0m in \u001b[0;36m<module>\u001b[0;34m\u001b[0m\n\u001b[1;32m      3\u001b[0m \u001b[0mb\u001b[0m \u001b[0;34m=\u001b[0m \u001b[0mnp\u001b[0m\u001b[0;34m.\u001b[0m\u001b[0marray\u001b[0m\u001b[0;34m(\u001b[0m\u001b[0;34m[\u001b[0m\u001b[0;36m3\u001b[0m\u001b[0;34m,\u001b[0m\u001b[0;36m4\u001b[0m\u001b[0;34m]\u001b[0m\u001b[0;34m)\u001b[0m\u001b[0;34m\u001b[0m\u001b[0;34m\u001b[0m\u001b[0m\n\u001b[1;32m      4\u001b[0m \u001b[0;34m\u001b[0m\u001b[0m\n\u001b[0;32m----> 5\u001b[0;31m \u001b[0mprint\u001b[0m\u001b[0;34m(\u001b[0m\u001b[0ma\u001b[0m \u001b[0;34m+\u001b[0m \u001b[0mb\u001b[0m\u001b[0;34m)\u001b[0m\u001b[0;34m\u001b[0m\u001b[0;34m\u001b[0m\u001b[0m\n\u001b[0m",
      "\u001b[0;31mValueError\u001b[0m: operands could not be broadcast together with shapes (3,) (2,) "
     ]
    }
   ],
   "source": [
    "# array들의 차원의 사이즈가 다르면, 에러메시지가 나타납니다.\n",
    "a = np.array([1,2,3])\n",
    "b = np.array([3,4])\n",
    "\n",
    "print(a + b)"
   ]
  },
  {
   "cell_type": "code",
   "execution_count": 13,
   "metadata": {},
   "outputs": [
    {
     "name": "stdout",
     "output_type": "stream",
     "text": [
      "[[1 2]\n",
      " [3 4]\n",
      " [5 6]]\n",
      "[0.1 0.2]\n",
      "[[1.1 2.2]\n",
      " [3.1 4.2]\n",
      " [5.1 6.2]]\n"
     ]
    }
   ],
   "source": [
    "# 그러나 다차원의 배열과 일차원의 배열을 더하는 경우,\n",
    "# numpy에서 (알아서) 차원을 맞춰서 더하게 됩니다.\n",
    "# Numpy의 공식 문서에서는 이를 \"broadcasting\"한다고 표현하고 있습니다.\n",
    "a = np.array([[1,2],[3,4],[5,6]])\n",
    "b = np.array([0.1, 0.2])\n",
    "print(a)\n",
    "print(b)\n",
    "print(a + b)"
   ]
  },
  {
   "cell_type": "code",
   "execution_count": 14,
   "metadata": {},
   "outputs": [
    {
     "name": "stdout",
     "output_type": "stream",
     "text": [
      "[[0. 0.]\n",
      " [0. 0.]]\n",
      "[2 3]\n",
      "[[2. 3.]\n",
      " [2. 3.]]\n",
      "[[2. 3.]\n",
      " [2. 3.]]\n",
      "[[2. 2.]\n",
      " [3. 3.]]\n"
     ]
    }
   ],
   "source": [
    "# 2 by 2 행렬에 2 by 1의 벡터를 연산하는 경우\n",
    "a = np.zeros((2,2)) # 모든 성분이 0이고 크기가 2 by 2인 행렬을 생성\n",
    "b = np.array([2,3])\n",
    "print(a)\n",
    "print(b)\n",
    "print(a + b)\n",
    "\n",
    "# Numpy의 newaxis라는 함수를 이용하여, b를 어떤 방향으로 더할지 정의할 수 있습니다.\n",
    "print(a + b[np.newaxis,:]) # b를 a의 행에 각각 더할 때,\n",
    "print(a + b[:,np.newaxis]) # b를 a의 열에 각각 더할 때,"
   ]
  },
  {
   "cell_type": "code",
   "execution_count": 15,
   "metadata": {},
   "outputs": [
    {
     "name": "stdout",
     "output_type": "stream",
     "text": [
      "[-1  2  3 -4]\n",
      "[1 2 3 4]\n",
      "[1 4 9]\n",
      "[1. 2. 3.]\n",
      "[2.71828183 1.         2.        ]\n",
      "[1.         0.         0.69314718]\n",
      "[1. 1. 1.]\n",
      "[2. 2. 2.]\n",
      "[1. 2. 2.]\n"
     ]
    }
   ],
   "source": [
    "# 각종 유용한 함수\n",
    "a = np.array([-1,2,3,-4])\n",
    "print(a)\n",
    "a = np.abs(a)\n",
    "print(a)\n",
    "\n",
    "b = np.array([1,4,9])\n",
    "print(b)\n",
    "b = np.sqrt(b)\n",
    "print(b)\n",
    "\n",
    "import math # math 패키지로부터 자연상수 e를 호출하기 위함\n",
    "c = np.array([math.e, 1, 2])\n",
    "print(c)\n",
    "c = np.log(c)\n",
    "print(c)\n",
    "\n",
    "d = np.array([1.1, 1.5, 1.9])\n",
    "print(np.floor(d)) # 내림\n",
    "print(np.ceil(d)) # 올림\n",
    "print(np.rint(d)) # 반올림"
   ]
  },
  {
   "cell_type": "markdown",
   "metadata": {},
   "source": [
    "## array iteration"
   ]
  },
  {
   "cell_type": "code",
   "execution_count": 16,
   "metadata": {},
   "outputs": [
    {
     "name": "stdout",
     "output_type": "stream",
     "text": [
      "1\n",
      "2\n",
      "3\n",
      "[1 2]\n",
      "[3 4]\n",
      "[5 6]\n",
      "2\n",
      "12\n",
      "30\n"
     ]
    }
   ],
   "source": [
    "a = np.array([1,2,3])\n",
    "for x in a:\n",
    "    print(x)\n",
    "\n",
    "b = np.array([[1,2],[3,4],[5,6]])\n",
    "for x in b:\n",
    "    print(x)\n",
    "for (x,y) in b:\n",
    "    print(x * y)"
   ]
  },
  {
   "cell_type": "markdown",
   "metadata": {},
   "source": [
    "## 합, 곱, 최소값, 최대값 등"
   ]
  },
  {
   "cell_type": "code",
   "execution_count": 17,
   "metadata": {},
   "outputs": [
    {
     "name": "stdout",
     "output_type": "stream",
     "text": [
      "sum\n",
      "15\n",
      "15\n",
      "production\n",
      "120\n",
      "120\n",
      "min value and its index\n",
      "1\n",
      "0\n",
      "max value and its index\n",
      "5\n",
      "4\n",
      "mean\n",
      "3.0\n",
      "standard deviation\n",
      "1.4142135623730951\n"
     ]
    }
   ],
   "source": [
    "a = np.array([1,2,3,4,5])\n",
    "# 합\n",
    "print('sum')\n",
    "print(a.sum())\n",
    "print(np.sum(a))\n",
    "# 곱\n",
    "print('production')\n",
    "print(a.prod())\n",
    "print(np.prod(a))\n",
    "# 최소값과 그의 index\n",
    "print('min value and its index')\n",
    "print(a.min())\n",
    "print(a.argmin())\n",
    "# 최대값과 그의 index\n",
    "print('max value and its index')\n",
    "print(a.max())\n",
    "print(a.argmax())\n",
    "# 평균과 표준편차\n",
    "print('mean')\n",
    "print(a.mean())\n",
    "print('standard deviation')\n",
    "print(a.std())"
   ]
  },
  {
   "cell_type": "markdown",
   "metadata": {},
   "source": [
    "## Matrix transpose"
   ]
  },
  {
   "cell_type": "code",
   "execution_count": 18,
   "metadata": {
    "scrolled": true
   },
   "outputs": [
    {
     "name": "stdout",
     "output_type": "stream",
     "text": [
      "[[1 2]\n",
      " [3 4]\n",
      " [5 6]]\n"
     ]
    }
   ],
   "source": [
    "a = np.array([[1,2],[3,4],[5,6]])\n",
    "print(a)"
   ]
  },
  {
   "cell_type": "code",
   "execution_count": 19,
   "metadata": {
    "scrolled": true
   },
   "outputs": [
    {
     "name": "stdout",
     "output_type": "stream",
     "text": [
      "[[1 3 5]\n",
      " [2 4 6]]\n"
     ]
    }
   ],
   "source": [
    "a_prime = a.T\n",
    "print(a_prime)"
   ]
  },
  {
   "cell_type": "code",
   "execution_count": null,
   "metadata": {},
   "outputs": [],
   "source": [
    "# How to transpose 1-dimensional vector\n",
    "b = np.array([1,2,3,4])\n",
    "print(b)"
   ]
  },
  {
   "cell_type": "code",
   "execution_count": null,
   "metadata": {},
   "outputs": [],
   "source": [
    "# Transpose가 먹히지 않는다.\n",
    "print(b.T)"
   ]
  },
  {
   "cell_type": "code",
   "execution_count": null,
   "metadata": {},
   "outputs": [],
   "source": [
    "# 만약 행 벡터를 열 벡터로 변환하고 싶다면 (약간의 꼼수)\n",
    "b_prime = b.reshape(-1,1)\n",
    "print(b_prime)\n",
    "print(b.shape, ' ==> ', b_prime.shape)"
   ]
  },
  {
   "cell_type": "markdown",
   "metadata": {},
   "source": [
    "## Numpy tutorials\n",
    "- Numpy에서 매우 많은 기능들을 제공합니다. \n",
    "- Numpy reference manual: http://docs.scipy.org/doc/numpy/reference/\n",
    "- Numpy quick-start: https://docs.scipy.org/doc/numpy-dev/user/quickstart.html\n",
    "- Stanford Univ.의 수업 내용에 있는 튜토리얼 번역: http://aikorea.org/cs231n/python-numpy-tutorial/#numpy-arrays\n",
    "- 필요한 기능이 있을 때 googling!"
   ]
  },
  {
   "cell_type": "markdown",
   "metadata": {},
   "source": []
  }
 ],
 "metadata": {
  "kernelspec": {
   "display_name": "Python 3",
   "language": "python",
   "name": "python3"
  },
  "language_info": {
   "codemirror_mode": {
    "name": "ipython",
    "version": 3
   },
   "file_extension": ".py",
   "mimetype": "text/x-python",
   "name": "python",
   "nbconvert_exporter": "python",
   "pygments_lexer": "ipython3",
   "version": "3.6.8"
  }
 },
 "nbformat": 4,
 "nbformat_minor": 1
}
