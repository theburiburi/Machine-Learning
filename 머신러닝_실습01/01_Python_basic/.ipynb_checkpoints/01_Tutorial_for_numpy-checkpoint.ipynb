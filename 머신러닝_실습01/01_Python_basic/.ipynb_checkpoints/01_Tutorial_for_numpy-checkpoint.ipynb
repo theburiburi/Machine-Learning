{
 "cells": [
  {
   "cell_type": "markdown",
   "metadata": {},
   "source": [
    "# Numpy\n",
    "- 패키지 사용 이전에 반드시 **import**해야 하는 것을 기억해주세요!\n",
    "- Numpy의 함수를 사용할 때마다 \"numpy\"를 적는 것이 귀찮기 때문에, 흔히들 \"**np**\"로 줄여서 import합니다."
   ]
  },
  {
   "cell_type": "code",
   "execution_count": null,
   "metadata": {},
   "outputs": [],
   "source": [
    "import numpy as np"
   ]
  },
  {
   "cell_type": "markdown",
   "metadata": {},
   "source": [
    "## array\n",
    "- array는 numpy에서 제공하는 자료구조로, 파이썬의 list와 유사한 성격을 보입니다.\n",
    "- MATLAB, R에서의 벡터, 행렬 연산 인터페이스와 거의 같은 기능을 제공합니다."
   ]
  },
  {
   "cell_type": "code",
   "execution_count": null,
   "metadata": {},
   "outputs": [],
   "source": [
    "a = [1, 2, 3]\n",
    "b = np.array(a)\n",
    "print(a)\n",
    "print(type(a))\n",
    "print(b)\n",
    "print(type(b))"
   ]
  },
  {
   "cell_type": "code",
   "execution_count": null,
   "metadata": {},
   "outputs": [],
   "source": [
    "# Rank = 1인 array\n",
    "a = np.array((1,2,3,4))\n",
    "print(a)\n",
    "print(type(a))\n",
    "print(a.shape)\n",
    "\n",
    "# Rank = 2인 array\n",
    "b = np.array([[1,2,3],[4,5,6]])\n",
    "print(b)\n",
    "print(type(b))\n",
    "print(b.shape)"
   ]
  },
  {
   "cell_type": "code",
   "execution_count": null,
   "metadata": {},
   "outputs": [],
   "source": [
    "# array의 성분은 모두 index를 갖고 있습니다. 이를 이용하여 성분을 바꿀 수 있습니다.\n",
    "a = np.array([1,2,3,4])\n",
    "print(a[0], a[1])\n",
    "a[0] = 5 # array의 가장 첫 번째 성분을 5로 변경\n",
    "print(a)\n",
    "\n",
    "b = np.array([[1,2,3],[4,5,6]])\n",
    "print(b[0]) # b 배열의 첫 번째 행을 출력\n",
    "print(b[0][2]) # b 배열의 첫 번째 행, 세 번째 열의 값을 출력 (즉, 행렬의 (1,3) 성분)\n",
    "print(b[0,2])  # 위와 동일\n",
    "b[0,2] = 7\n",
    "print(b)"
   ]
  },
  {
   "cell_type": "code",
   "execution_count": null,
   "metadata": {
    "scrolled": true
   },
   "outputs": [],
   "source": [
    "# array 성분의 type을 정의할 수 있습니다.\n",
    "a = np.array([1,2,3,4], float)\n",
    "print(a)\n",
    "print(type(a[0]))\n",
    "print(a.dtype)\n",
    "\n",
    "b = np.array([1,2,3,4], int)\n",
    "print(b)\n",
    "print(type(b[0]))\n",
    "print(b.dtype)"
   ]
  },
  {
   "cell_type": "code",
   "execution_count": null,
   "metadata": {},
   "outputs": [],
   "source": [
    "# MATLAB, R과 유사한 인터페이스로 행렬의 성분들을 분해할 수 있습니다.\n",
    "a = np.array([[1,2,3,], [4,5,6]])\n",
    "print(a[0,0]) # a 행렬의 (1,1) 성분\n",
    "print(a[0,:]) # a 행렬의 첫 번째 행\n",
    "print(a[:,2]) # a 행렬의 세 번째 열"
   ]
  },
  {
   "cell_type": "code",
   "execution_count": null,
   "metadata": {},
   "outputs": [],
   "source": [
    "mylist = [[1, 2, 3], [3, 4, 5]]\n",
    "myarray = np.array(mylist)\n",
    "print(myarray)\n",
    "print(myarray.shape)\n",
    "print(\"First row: %s\" % myarray[0])\n",
    "print(\"Last row: %s\" % myarray[-1])\n",
    "print(\"Specific row and col: %s\" % myarray[0, 2])\n",
    "print(\"Whole col: %s\" % myarray[:,2])"
   ]
  },
  {
   "cell_type": "markdown",
   "metadata": {},
   "source": [
    "## array 연산\n",
    "- array 연산 역시 MATLAB, R과 매우 유사합니다.\n",
    "- +, -, /, //, %, ** 등 기본적인 파이썬의 연산자는 그대로 적용 가능합니다.\n",
    "- numpy 자체에서 abs, sign, sqrt, log, log10, exp, sin, cos, tan, floor(내림), ceil(올림), rint(반올림) 등의 함수를 제공합니다."
   ]
  },
  {
   "cell_type": "code",
   "execution_count": null,
   "metadata": {},
   "outputs": [],
   "source": [
    "a = np.array([1, 2])\n",
    "b = np.array([5, 6])\n",
    "\n",
    "a + b"
   ]
  },
  {
   "cell_type": "code",
   "execution_count": null,
   "metadata": {},
   "outputs": [],
   "source": [
    "# Python의 기본 연산자에 대해서 우리가 생각하는대로 결과가 나옵니다.\n",
    "a = np.array([1,2,3])\n",
    "b = np.array([2,5,6])\n",
    "\n",
    "print(a + b)\n",
    "print(a - b)\n",
    "print(a / b)\n",
    "print(b / a)\n",
    "print(b // a)\n",
    "print(b % a)\n",
    "print(a ** b)"
   ]
  },
  {
   "cell_type": "code",
   "execution_count": null,
   "metadata": {},
   "outputs": [],
   "source": [
    "a = np.array([[1,2,3],[4,5,6]])\n",
    "b = np.array([[2,4,6],[6,8,10]])\n",
    "\n",
    "print(a + b)\n",
    "print(a - b)\n",
    "print(a / b)\n",
    "print(b / a)\n",
    "print(b // a)\n",
    "print(b % a)\n",
    "print(a ** b)"
   ]
  },
  {
   "cell_type": "code",
   "execution_count": null,
   "metadata": {},
   "outputs": [],
   "source": [
    "# array들의 차원의 사이즈가 다르면, 에러메시지가 나타납니다.\n",
    "a = np.array([1,2,3])\n",
    "b = np.array([3,4])\n",
    "\n",
    "print(a + b)"
   ]
  },
  {
   "cell_type": "code",
   "execution_count": null,
   "metadata": {},
   "outputs": [],
   "source": [
    "# 그러나 다차원의 배열과 일차원의 배열을 더하는 경우,\n",
    "# numpy에서 (알아서) 차원을 맞춰서 더하게 됩니다.\n",
    "# Numpy의 공식 문서에서는 이를 \"broadcasting\"한다고 표현하고 있습니다.\n",
    "a = np.array([[1,2],[3,4],[5,6]])\n",
    "b = np.array([0.1, 0.2])\n",
    "print(a)\n",
    "print(b)\n",
    "print(a + b)"
   ]
  },
  {
   "cell_type": "code",
   "execution_count": null,
   "metadata": {},
   "outputs": [],
   "source": [
    "# 2 by 2 행렬에 2 by 1의 벡터를 연산하는 경우\n",
    "a = np.zeros((2,2)) # 모든 성분이 0이고 크기가 2 by 2인 행렬을 생성\n",
    "b = np.array([2,3])\n",
    "print(a)\n",
    "print(b)\n",
    "print(a + b)\n",
    "\n",
    "# Numpy의 newaxis라는 함수를 이용하여, b를 어떤 방향으로 더할지 정의할 수 있습니다.\n",
    "print(a + b[np.newaxis,:]) # b를 a의 행에 각각 더할 때,\n",
    "print(a + b[:,np.newaxis]) # b를 a의 열에 각각 더할 때,"
   ]
  },
  {
   "cell_type": "code",
   "execution_count": null,
   "metadata": {},
   "outputs": [],
   "source": [
    "# 각종 유용한 함수\n",
    "a = np.array([-1,2,3,-4])\n",
    "print(a)\n",
    "a = np.abs(a)\n",
    "print(a)\n",
    "\n",
    "b = np.array([1,4,9])\n",
    "print(b)\n",
    "b = np.sqrt(b)\n",
    "print(b)\n",
    "\n",
    "import math # math 패키지로부터 자연상수 e를 호출하기 위함\n",
    "c = np.array([math.e, 1, 2])\n",
    "print(c)\n",
    "c = np.log(c)\n",
    "print(c)\n",
    "\n",
    "d = np.array([1.1, 1.5, 1.9])\n",
    "print(np.floor(d)) # 내림\n",
    "print(np.ceil(d)) # 올림\n",
    "print(np.rint(d)) # 반올림"
   ]
  },
  {
   "cell_type": "markdown",
   "metadata": {},
   "source": [
    "## array iteration"
   ]
  },
  {
   "cell_type": "code",
   "execution_count": null,
   "metadata": {},
   "outputs": [],
   "source": [
    "a = np.array([1,2,3])\n",
    "for x in a:\n",
    "    print(x)\n",
    "\n",
    "b = np.array([[1,2],[3,4],[5,6]])\n",
    "for x in b:\n",
    "    print(x)\n",
    "for (x,y) in b:\n",
    "    print(x * y)"
   ]
  },
  {
   "cell_type": "markdown",
   "metadata": {},
   "source": [
    "## 합, 곱, 최소값, 최대값 등"
   ]
  },
  {
   "cell_type": "code",
   "execution_count": null,
   "metadata": {},
   "outputs": [],
   "source": [
    "a = np.array([1,2,3,4,5])\n",
    "# 합\n",
    "print('sum')\n",
    "print(a.sum())\n",
    "print(np.sum(a))\n",
    "# 곱\n",
    "print('production')\n",
    "print(a.prod())\n",
    "print(np.prod(a))\n",
    "# 최소값과 그의 index\n",
    "print('min value and its index')\n",
    "print(a.min())\n",
    "print(a.argmin())\n",
    "# 최대값과 그의 index\n",
    "print('max value and its index')\n",
    "print(a.max())\n",
    "print(a.argmax())\n",
    "# 평균과 표준편차\n",
    "print('mean')\n",
    "print(a.mean())\n",
    "print('standard deviation')\n",
    "print(a.std())"
   ]
  },
  {
   "cell_type": "markdown",
   "metadata": {},
   "source": [
    "## Matrix transpose"
   ]
  },
  {
   "cell_type": "code",
   "execution_count": null,
   "metadata": {
    "scrolled": true
   },
   "outputs": [],
   "source": [
    "a = np.array([[1,2],[3,4],[5,6]])\n",
    "print(a)"
   ]
  },
  {
   "cell_type": "code",
   "execution_count": null,
   "metadata": {
    "scrolled": true
   },
   "outputs": [],
   "source": [
    "a_prime = a.T\n",
    "print(a_prime)"
   ]
  },
  {
   "cell_type": "code",
   "execution_count": null,
   "metadata": {},
   "outputs": [],
   "source": [
    "# How to transpose 1-dimensional vector\n",
    "b = np.array([1,2,3,4])\n",
    "print(b)"
   ]
  },
  {
   "cell_type": "code",
   "execution_count": null,
   "metadata": {},
   "outputs": [],
   "source": [
    "# Transpose가 먹히지 않는다.\n",
    "print(b.T)"
   ]
  },
  {
   "cell_type": "code",
   "execution_count": null,
   "metadata": {},
   "outputs": [],
   "source": [
    "# 만약 행 벡터를 열 벡터로 변환하고 싶다면 (약간의 꼼수)\n",
    "b_prime = b.reshape(-1,1)\n",
    "print(b_prime)\n",
    "print(b.shape, ' ==> ', b_prime.shape)"
   ]
  },
  {
   "cell_type": "markdown",
   "metadata": {},
   "source": [
    "## Numpy tutorials\n",
    "- Numpy에서 매우 많은 기능들을 제공합니다. \n",
    "- Numpy reference manual: http://docs.scipy.org/doc/numpy/reference/\n",
    "- Numpy quick-start: https://docs.scipy.org/doc/numpy-dev/user/quickstart.html\n",
    "- Stanford Univ.의 수업 내용에 있는 튜토리얼 번역: http://aikorea.org/cs231n/python-numpy-tutorial/#numpy-arrays\n",
    "- 필요한 기능이 있을 때 googling!"
   ]
  },
  {
   "cell_type": "markdown",
   "metadata": {},
   "source": []
  }
 ],
 "metadata": {
  "kernelspec": {
   "display_name": "Python 3",
   "language": "python",
   "name": "python3"
  },
  "language_info": {
   "codemirror_mode": {
    "name": "ipython",
    "version": 3
   },
   "file_extension": ".py",
   "mimetype": "text/x-python",
   "name": "python",
   "nbconvert_exporter": "python",
   "pygments_lexer": "ipython3",
   "version": "3.6.8"
  }
 },
 "nbformat": 4,
 "nbformat_minor": 1
}
